{
 "cells": [
  {
   "cell_type": "markdown",
   "metadata": {},
   "source": [
    "- ContactBook\n",
    "- Methods:\n",
    "    - add (creat)\n",
    "    - view contact (read)\n",
    "    - update_contact (update)\n",
    "    - delete_contact (delete)"
   ]
  },
  {
   "cell_type": "markdown",
   "metadata": {},
   "source": [
    "{\n",
    "    \"ali\": {\n",
    "        \"phone\": \"09141190804\",\n",
    "        \"email\": \"hesam@gmail.com\"\n",
    "    },\n",
    "    \"divid\": {\n",
    "        \"phone\": \"09141198804\",\n",
    "        \"email\": \"am@gmail.com\"\n",
    "    }\n",
    "}"
   ]
  },
  {
   "cell_type": "code",
   "execution_count": 54,
   "metadata": {},
   "outputs": [],
   "source": [
    "from collections import defaultdict\n",
    "\n",
    "class ContactBook():\n",
    "    def __init__(self):\n",
    "        self.contacts = defaultdict(dict)\n",
    "        \n",
    "    def add_contact(self, name, phone, email=None):\n",
    "        if name in self.contacts:\n",
    "            raise KeyError(\"این اسم در لیست مخاطبان وجود دارند، نمیتوانید اضافه کنید\")\n",
    "        \n",
    "        self.contacts[name][\"phone\"] = phone\n",
    "        self.contacts[name][\"email\"] = email\n",
    "\n",
    "    def view_contact(self):\n",
    "        for name, info in self.contacts.items():\n",
    "            print(f\"name: {name}\")\n",
    "            print(f\"Phone number: {info ['phone'] }\")\n",
    "            print(f\"email: {info ['email']}\")\n",
    "            print('-'*50)\n",
    "        \n",
    "    def update_contact(self, name, phone=None, email=None):\n",
    "        if name in self.contacts:\n",
    "            if phone or phone =='': #سیو کردن به صورت خالی\n",
    "                self.contacts[name][\"phone\"] = phone\n",
    "            if email or email =='':\n",
    "                self.contacts[name][\"email\"] = email\n",
    "            \n",
    "            print(\"update contact successfully\")\n",
    "            return\n",
    "        \n",
    "        print(\"not contact found!\")\n",
    "            \n",
    "    def delete_contact(self, name):\n",
    "        if name in self.contacts:\n",
    "            del self.contacts[name]\n",
    "            print(\"delete it\")\n",
    "            return\n",
    "        \n",
    "        else:\n",
    "            print(\"contact not found!\")\n",
    "\n"
   ]
  },
  {
   "cell_type": "code",
   "execution_count": 58,
   "metadata": {},
   "outputs": [
    {
     "name": "stdout",
     "output_type": "stream",
     "text": [
      "\n",
      "\n",
      "Welcome to contact book application!\n",
      "\n",
      "1. Add Contact\n",
      "2. Edit Contact\n",
      "3. View Contacts\n",
      "4. Delete Contact\n",
      "5. Quit\n",
      "\n",
      "\n",
      "Welcome to contact book application!\n",
      "\n",
      "1. Add Contact\n",
      "2. Edit Contact\n",
      "3. View Contacts\n",
      "4. Delete Contact\n",
      "5. Quit\n",
      "list of contact name: \n",
      "name: reza\n",
      "Phone number: 99999\n",
      "email: dsdf@gmail.com\n",
      "--------------------------------------------------\n",
      "\n",
      "\n",
      "Welcome to contact book application!\n",
      "\n",
      "1. Add Contact\n",
      "2. Edit Contact\n",
      "3. View Contacts\n",
      "4. Delete Contact\n",
      "5. Quit\n",
      "update contact successfully\n",
      "\n",
      "\n",
      "Welcome to contact book application!\n",
      "\n",
      "1. Add Contact\n",
      "2. Edit Contact\n",
      "3. View Contacts\n",
      "4. Delete Contact\n",
      "5. Quit\n",
      "list of contact name: \n",
      "name: reza\n",
      "Phone number: \n",
      "email: \n",
      "--------------------------------------------------\n",
      "\n",
      "\n",
      "Welcome to contact book application!\n",
      "\n",
      "1. Add Contact\n",
      "2. Edit Contact\n",
      "3. View Contacts\n",
      "4. Delete Contact\n",
      "5. Quit\n",
      "list of contact name: \n",
      "name: reza\n",
      "Phone number: \n",
      "email: \n",
      "--------------------------------------------------\n",
      "\n",
      "\n",
      "Welcome to contact book application!\n",
      "\n",
      "1. Add Contact\n",
      "2. Edit Contact\n",
      "3. View Contacts\n",
      "4. Delete Contact\n",
      "5. Quit\n"
     ]
    }
   ],
   "source": [
    "contact_book = ContactBook()\n",
    "\n",
    "while True:\n",
    "    print(\"\\n\\nWelcome to contact book application!\\n\")\n",
    "    print(\"1. Add Contact\")\n",
    "    print(\"2. Edit Contact\")\n",
    "    print(\"3. View Contacts\")\n",
    "    print(\"4. Delete Contact\")\n",
    "    print(\"5. Quit\")\n",
    "    \n",
    "    user_choice = input(\"Please choice an option: \")\n",
    "    \n",
    "    if user_choice == '5':\n",
    "        break\n",
    "    \n",
    "    elif user_choice == '1':\n",
    "        name = input(\"Enter contact name: \")\n",
    "        phone = input(\"Enter contact phone: \")\n",
    "        email = input(\"Enter contact email: \")\n",
    "\n",
    "        contact_book.add_contact(name, phone, email)\n",
    "        \n",
    "    elif user_choice == '2':\n",
    "        name = input(\"Enter contact name: \")\n",
    "        phone = input(\"Enter contact phone: \")\n",
    "        email = input(\"Enter contact email: \")\n",
    "\n",
    "        contact_book.update_contact(name, phone, email)\n",
    "        \n",
    "    elif user_choice == '3':\n",
    "        print(\"\\nlist of contact name: \")\n",
    "        contact_book.view_contact()\n",
    "        \n",
    "    elif user_choice == '4':\n",
    "        name = input(\"Enter contact name: \")\n",
    "        contact_book.delete_contact(name)"
   ]
  },
  {
   "cell_type": "code",
   "execution_count": 62,
   "metadata": {},
   "outputs": [],
   "source": [
    "diccct = {\n",
    "    \"ali\": {\"phone\": \"09141190804\",\n",
    "             \"email\": \"hesam@gmail.com\"\n",
    "            },\n",
    "}"
   ]
  },
  {
   "cell_type": "code",
   "execution_count": 64,
   "metadata": {},
   "outputs": [
    {
     "data": {
      "text/plain": [
       "'09141190804'"
      ]
     },
     "execution_count": 64,
     "metadata": {},
     "output_type": "execute_result"
    }
   ],
   "source": [
    "diccct[\"ali\"][\"phone\"]"
   ]
  },
  {
   "cell_type": "code",
   "execution_count": null,
   "metadata": {},
   "outputs": [],
   "source": []
  }
 ],
 "metadata": {
  "kernelspec": {
   "display_name": "py310",
   "language": "python",
   "name": "python3"
  },
  "language_info": {
   "codemirror_mode": {
    "name": "ipython",
    "version": 3
   },
   "file_extension": ".py",
   "mimetype": "text/x-python",
   "name": "python",
   "nbconvert_exporter": "python",
   "pygments_lexer": "ipython3",
   "version": "3.10.15"
  }
 },
 "nbformat": 4,
 "nbformat_minor": 2
}
